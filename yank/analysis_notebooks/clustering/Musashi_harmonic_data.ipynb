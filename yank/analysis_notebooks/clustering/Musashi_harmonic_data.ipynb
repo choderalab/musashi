{
 "cells": [
  {
   "cell_type": "code",
   "execution_count": 67,
   "metadata": {},
   "outputs": [],
   "source": [
    "# general imports\n",
    "import mdtraj as md\n",
    "import msmbuilder\n",
    "import nglview as nv\n",
    "from msmbuilder.featurizer import LigandRMSDFeaturizer, RawPositionsFeaturizer\n",
    "from msmbuilder.cluster import KMeans, KMedoids, KCenters\n",
    "import numpy as np \n",
    "from collections import Counter\n",
    "from msmbuilder.cluster import RegularSpatial"
   ]
  },
  {
   "cell_type": "code",
   "execution_count": 68,
   "metadata": {},
   "outputs": [],
   "source": [
    "trajectory = md.load('/Users/albaness/github/musashi/yank/experiments/experiment-harmonic/Roasix/RoAsix_state0_skip4.pdb')"
   ]
  },
  {
   "cell_type": "code",
   "execution_count": 69,
   "metadata": {},
   "outputs": [
    {
     "data": {
      "text/plain": [
       "array([   0,    4,   17,   18,   19,   21,   39,   40,   41,   43,   56,\n",
       "         57,   58,   60,   76,   77,   78,   80,   95,   96,   97,   99,\n",
       "        102,  103,  104,  106,  109,  110,  111,  113,  128,  129,  130,\n",
       "        132,  139,  140,  141,  143,  163,  164,  165,  167,  180,  181,\n",
       "        182,  184,  194,  195,  196,  198,  205,  206,  207,  217,  219,\n",
       "        220,  221,  223,  231,  232,  233,  235,  242,  243,  244,  246,\n",
       "        261,  262,  263,  265,  285,  286,  287,  289,  297,  298,  299,\n",
       "        301,  318,  319,  320,  322,  338,  339,  340,  342,  349,  350,\n",
       "        351,  353,  371,  372,  373,  375,  391,  392,  393,  395,  398,\n",
       "        399,  400,  402,  413,  414,  415,  417,  432,  433,  434,  436,\n",
       "        456,  457,  458,  460,  471,  472,  473,  475,  482,  483,  484,\n",
       "        486,  499,  500,  501,  503,  515,  516,  517,  519,  532,  533,\n",
       "        534,  536,  556,  557,  558,  560,  568,  569,  570,  580,  582,\n",
       "        583,  584,  586,  596,  597,  598,  600,  610,  611,  612,  614,\n",
       "        632,  633,  634,  636,  656,  657,  658,  660,  667,  668,  669,\n",
       "        671,  691,  692,  693,  695,  698,  699,  700,  702,  718,  719,\n",
       "        720,  722,  725,  726,  727,  729,  745,  746,  747,  749,  761,\n",
       "        762,  763,  765,  775,  776,  777,  779,  795,  796,  797,  799,\n",
       "        805,  806,  807,  809,  817,  818,  819,  829,  831,  832,  833,\n",
       "        835,  841,  842,  843,  845,  852,  853,  854,  856,  868,  869,\n",
       "        870,  872,  880,  881,  882,  884,  902,  903,  904,  906,  918,\n",
       "        919,  920,  922,  937,  938,  939,  941,  944,  945,  946,  948,\n",
       "        961,  962,  963,  973,  975,  976,  977,  979,  992,  993,  994,\n",
       "        996, 1009, 1010, 1011, 1013, 1024, 1025, 1026, 1028, 1043, 1044,\n",
       "       1045, 1047, 1055, 1056, 1057, 1059, 1066, 1067, 1068, 1070, 1088,\n",
       "       1089, 1090, 1092, 1102, 1103, 1104, 1106, 1121, 1122, 1123, 1125,\n",
       "       1133, 1134, 1135, 1145, 1147, 1148, 1149, 1151, 1169, 1170, 1171,\n",
       "       1173, 1185, 1186, 1187, 1189, 1195, 1196, 1197, 1199, 1215, 1216,\n",
       "       1217, 1227, 1229, 1230, 1231, 1233, 1253, 1254, 1255, 1257, 1277,\n",
       "       1278, 1279, 1281, 1287, 1288, 1289, 1291, 1304, 1305, 1306, 1316,\n",
       "       1318, 1319, 1320, 1322, 1340, 1341])"
      ]
     },
     "execution_count": 69,
     "metadata": {},
     "output_type": "execute_result"
    }
   ],
   "source": [
    "atoms_to_align = trajectory.top.select('backbone and resn !=UNK')\n",
    "atoms_to_align"
   ]
  },
  {
   "cell_type": "code",
   "execution_count": 70,
   "metadata": {},
   "outputs": [],
   "source": [
    "aligned_traj = trajectory.superpose(trajectory[0], frame=0, atom_indices=atoms_to_align)"
   ]
  },
  {
   "cell_type": "code",
   "execution_count": 71,
   "metadata": {
    "scrolled": false
   },
   "outputs": [
    {
     "data": {
      "application/vnd.jupyter.widget-view+json": {
       "model_id": "dc57c525084544cab8463cdd68b4f606",
       "version_major": 2,
       "version_minor": 0
      },
      "text/html": [
       "<p>Failed to display Jupyter Widget of type <code>NGLWidget</code>.</p>\n",
       "<p>\n",
       "  If you're reading this message in the Jupyter Notebook or JupyterLab Notebook, it may mean\n",
       "  that the widgets JavaScript is still loading. If this message persists, it\n",
       "  likely means that the widgets JavaScript library is either not installed or\n",
       "  not enabled. See the <a href=\"https://ipywidgets.readthedocs.io/en/stable/user_install.html\">Jupyter\n",
       "  Widgets Documentation</a> for setup instructions.\n",
       "</p>\n",
       "<p>\n",
       "  If you're reading this message in another frontend (for example, a static\n",
       "  rendering on GitHub or <a href=\"https://nbviewer.jupyter.org/\">NBViewer</a>),\n",
       "  it may mean that your frontend doesn't currently support widgets.\n",
       "</p>\n"
      ],
      "text/plain": [
       "NGLWidget(count=3351)"
      ]
     },
     "metadata": {},
     "output_type": "display_data"
    }
   ],
   "source": [
    "view = nv.show_mdtraj(aligned_traj)\n",
    "view.add_licorice('resn UNK')\n",
    "view"
   ]
  },
  {
   "cell_type": "code",
   "execution_count": 72,
   "metadata": {},
   "outputs": [
    {
     "data": {
      "text/plain": [
       "array([1343, 1344, 1345, 1346, 1347, 1348, 1349, 1350, 1351, 1352, 1353,\n",
       "       1354, 1355, 1356, 1357, 1358, 1359, 1360, 1361, 1362, 1363, 1364,\n",
       "       1365, 1366, 1367, 1368, 1369, 1370, 1371, 1372, 1373, 1374, 1375,\n",
       "       1376, 1377])"
      ]
     },
     "execution_count": 72,
     "metadata": {},
     "output_type": "execute_result"
    }
   ],
   "source": [
    "ligand = aligned_traj.topology.select('resn UNK')\n",
    "ligand"
   ]
  },
  {
   "cell_type": "code",
   "execution_count": 73,
   "metadata": {},
   "outputs": [],
   "source": [
    "ligand_trajectory = aligned_traj.atom_slice(ligand)"
   ]
  },
  {
   "cell_type": "code",
   "execution_count": 74,
   "metadata": {},
   "outputs": [
    {
     "data": {
      "text/plain": [
       "3351"
      ]
     },
     "execution_count": 74,
     "metadata": {},
     "output_type": "execute_result"
    }
   ],
   "source": [
    "len(trajectory)"
   ]
  },
  {
   "cell_type": "code",
   "execution_count": 75,
   "metadata": {},
   "outputs": [],
   "source": [
    "reg_space = RegularSpatial(d_min=0.1, metric='rmsd').fit(ligand_trajectory)"
   ]
  },
  {
   "cell_type": "code",
   "execution_count": 40,
   "metadata": {
    "scrolled": false
   },
   "outputs": [],
   "source": [
    "for i,center in enumerate(reg_space.cluster_center_indices_):\n",
    "    aligned_traj[center][0].save('musashi_ro6_h_reg_cluster%s_frame%s.pdb' % (i,center[0]))"
   ]
  },
  {
   "cell_type": "code",
   "execution_count": 79,
   "metadata": {},
   "outputs": [],
   "source": [
    "reg_list = reg_space.fit_predict(ligand_trajectory)"
   ]
  },
  {
   "cell_type": "code",
   "execution_count": 80,
   "metadata": {},
   "outputs": [
    {
     "data": {
      "text/plain": [
       "<bound method Counter.most_common of Counter({17: 457, 201: 451, 37: 198, 100: 190, 47: 185, 344: 181, 285: 164, 378: 152, 61: 145, 282: 100, 32: 87, 0: 85, 51: 83, 357: 78, 27: 76, 173: 68, 179: 67, 148: 59, 21: 41, 212: 41, 267: 38, 26: 37, 205: 32, 313: 30, 215: 28, 3: 25, 196: 23, 92: 18, 9: 17, 197: 17, 116: 16, 184: 13, 78: 13, 195: 12, 1: 11, 342: 10, 404: 9, 297: 7, 29: 6, 82: 6, 358: 6, 193: 6, 360: 6, 326: 4, 130: 4, 410: 4, 2: 3, 83: 3, 98: 3, 85: 3, 312: 3, 103: 3, 139: 3, 292: 3, 4: 2, 55: 2, 163: 2, 7: 1, 35: 1, 45: 1, 74: 1, 81: 1, 105: 1, 134: 1, 168: 1, 204: 1, 214: 1, 248: 1, 260: 1, 315: 1, 341: 1, 385: 1})>"
      ]
     },
     "execution_count": 80,
     "metadata": {},
     "output_type": "execute_result"
    }
   ],
   "source": [
    "converted_labels = []\n",
    "for x in reg_list:\n",
    "    converted_labels.append(x[0])\n",
    "Counter(converted_labels).most_common"
   ]
  },
  {
   "cell_type": "code",
   "execution_count": 81,
   "metadata": {
    "scrolled": true
   },
   "outputs": [
    {
     "data": {
      "text/plain": [
       "array([1190,    0])"
      ]
     },
     "execution_count": 81,
     "metadata": {},
     "output_type": "execute_result"
    }
   ],
   "source": [
    "reg_space.cluster_center_indices_[201]"
   ]
  },
  {
   "cell_type": "code",
   "execution_count": 83,
   "metadata": {},
   "outputs": [],
   "source": [
    "nsamples = 10\n",
    "for x in [37, 201, 17]:\n",
    "    indices_in_cluster = []\n",
    "    for i,y in enumerate(converted_labels):\n",
    "        if y == x: \n",
    "            indices_in_cluster.append(i)\n",
    "    samples = np.random.choice(indices_in_cluster, nsamples, replace=False)\n",
    "    for frame in samples:  \n",
    "        aligned_traj[frame].save('musashi_ro6_h_reg_cluster%s_frame%s.pdb' % (x,frame))\n",
    "        \n",
    "aligned_traj[frame].save('musashi_ro6_h_reg_cluster%s_frame%s.pdb' % (37, 99))\n",
    "aligned_traj[frame].save('musashi_ro6_h_reg_cluster%s_frame%s.pdb' % (17, 35))\n",
    "aligned_traj[frame].save('musashi_ro6_h_reg_cluster%s_frame%s.pdb' % (201, 1190))"
   ]
  },
  {
   "cell_type": "code",
   "execution_count": 51,
   "metadata": {},
   "outputs": [
    {
     "data": {
      "text/plain": [
       "3351"
      ]
     },
     "execution_count": 51,
     "metadata": {},
     "output_type": "execute_result"
    }
   ],
   "source": [
    "len(reg_list)"
   ]
  },
  {
   "cell_type": "markdown",
   "metadata": {},
   "source": [
    "# RoOH analysis"
   ]
  },
  {
   "cell_type": "code",
   "execution_count": 85,
   "metadata": {},
   "outputs": [],
   "source": [
    "trajectory = md.load('/Users/albaness/github/musashi/yank/experiments/experiment-harmonic/RoOH/Rooh_h_state0.h5')"
   ]
  },
  {
   "cell_type": "code",
   "execution_count": 86,
   "metadata": {},
   "outputs": [
    {
     "data": {
      "text/plain": [
       "array([   0,    4,   17,   18,   19,   21,   39,   40,   41,   43,   56,\n",
       "         57,   58,   60,   76,   77,   78,   80,   95,   96,   97,   99,\n",
       "        102,  103,  104,  106,  109,  110,  111,  113,  128,  129,  130,\n",
       "        132,  139,  140,  141,  143,  163,  164,  165,  167,  180,  181,\n",
       "        182,  184,  194,  195,  196,  198,  205,  206,  207,  217,  219,\n",
       "        220,  221,  223,  231,  232,  233,  235,  242,  243,  244,  246,\n",
       "        261,  262,  263,  265,  285,  286,  287,  289,  297,  298,  299,\n",
       "        301,  318,  319,  320,  322,  338,  339,  340,  342,  349,  350,\n",
       "        351,  353,  371,  372,  373,  375,  391,  392,  393,  395,  398,\n",
       "        399,  400,  402,  413,  414,  415,  417,  432,  433,  434,  436,\n",
       "        456,  457,  458,  460,  471,  472,  473,  475,  482,  483,  484,\n",
       "        486,  499,  500,  501,  503,  515,  516,  517,  519,  532,  533,\n",
       "        534,  536,  556,  557,  558,  560,  568,  569,  570,  580,  582,\n",
       "        583,  584,  586,  596,  597,  598,  600,  610,  611,  612,  614,\n",
       "        632,  633,  634,  636,  656,  657,  658,  660,  667,  668,  669,\n",
       "        671,  691,  692,  693,  695,  698,  699,  700,  702,  718,  719,\n",
       "        720,  722,  725,  726,  727,  729,  745,  746,  747,  749,  761,\n",
       "        762,  763,  765,  775,  776,  777,  779,  795,  796,  797,  799,\n",
       "        805,  806,  807,  809,  817,  818,  819,  829,  831,  832,  833,\n",
       "        835,  841,  842,  843,  845,  852,  853,  854,  856,  868,  869,\n",
       "        870,  872,  880,  881,  882,  884,  902,  903,  904,  906,  918,\n",
       "        919,  920,  922,  937,  938,  939,  941,  944,  945,  946,  948,\n",
       "        961,  962,  963,  973,  975,  976,  977,  979,  992,  993,  994,\n",
       "        996, 1009, 1010, 1011, 1013, 1024, 1025, 1026, 1028, 1043, 1044,\n",
       "       1045, 1047, 1055, 1056, 1057, 1059, 1066, 1067, 1068, 1070, 1088,\n",
       "       1089, 1090, 1092, 1102, 1103, 1104, 1106, 1121, 1122, 1123, 1125,\n",
       "       1133, 1134, 1135, 1145, 1147, 1148, 1149, 1151, 1169, 1170, 1171,\n",
       "       1173, 1185, 1186, 1187, 1189, 1195, 1196, 1197, 1199, 1215, 1216,\n",
       "       1217, 1227, 1229, 1230, 1231, 1233, 1253, 1254, 1255, 1257, 1277,\n",
       "       1278, 1279, 1281, 1287, 1288, 1289, 1291, 1304, 1305, 1306, 1316,\n",
       "       1318, 1319, 1320, 1322, 1340, 1341])"
      ]
     },
     "execution_count": 86,
     "metadata": {},
     "output_type": "execute_result"
    }
   ],
   "source": [
    "atoms_to_align = trajectory.top.select('backbone and resn !=UNK')\n",
    "atoms_to_align"
   ]
  },
  {
   "cell_type": "code",
   "execution_count": 87,
   "metadata": {},
   "outputs": [],
   "source": [
    "aligned_traj = trajectory.superpose(trajectory[0], frame=0, atom_indices=atoms_to_align)"
   ]
  },
  {
   "cell_type": "code",
   "execution_count": 88,
   "metadata": {},
   "outputs": [
    {
     "data": {
      "application/vnd.jupyter.widget-view+json": {
       "model_id": "8ca23f235f9d4adb8fc75e6af81c3050",
       "version_major": 2,
       "version_minor": 0
      },
      "text/html": [
       "<p>Failed to display Jupyter Widget of type <code>NGLWidget</code>.</p>\n",
       "<p>\n",
       "  If you're reading this message in the Jupyter Notebook or JupyterLab Notebook, it may mean\n",
       "  that the widgets JavaScript is still loading. If this message persists, it\n",
       "  likely means that the widgets JavaScript library is either not installed or\n",
       "  not enabled. See the <a href=\"https://ipywidgets.readthedocs.io/en/stable/user_install.html\">Jupyter\n",
       "  Widgets Documentation</a> for setup instructions.\n",
       "</p>\n",
       "<p>\n",
       "  If you're reading this message in another frontend (for example, a static\n",
       "  rendering on GitHub or <a href=\"https://nbviewer.jupyter.org/\">NBViewer</a>),\n",
       "  it may mean that your frontend doesn't currently support widgets.\n",
       "</p>\n"
      ],
      "text/plain": [
       "NGLWidget(count=8501)"
      ]
     },
     "metadata": {},
     "output_type": "display_data"
    }
   ],
   "source": [
    "view = nv.show_mdtraj(aligned_traj)\n",
    "view.add_licorice('resn UNK')\n",
    "view"
   ]
  },
  {
   "cell_type": "code",
   "execution_count": 89,
   "metadata": {},
   "outputs": [
    {
     "data": {
      "text/plain": [
       "array([1343, 1344, 1345, 1346, 1347, 1348, 1349, 1350, 1351, 1352, 1353,\n",
       "       1354, 1355, 1356, 1357, 1358, 1359, 1360, 1361, 1362, 1363, 1364,\n",
       "       1365, 1366, 1367, 1368, 1369, 1370, 1371, 1372, 1373, 1374])"
      ]
     },
     "execution_count": 89,
     "metadata": {},
     "output_type": "execute_result"
    }
   ],
   "source": [
    "ligand = aligned_traj.topology.select('resn UNK')\n",
    "ligand\n",
    "ligand_trajectory = aligned_traj.atom_slice(ligand)\n",
    "ligand"
   ]
  },
  {
   "cell_type": "code",
   "execution_count": 90,
   "metadata": {},
   "outputs": [],
   "source": [
    "reg_space = RegularSpatial(d_min=0.10, metric='rmsd').fit(ligand_trajectory)"
   ]
  },
  {
   "cell_type": "code",
   "execution_count": 97,
   "metadata": {},
   "outputs": [],
   "source": [
    "for i,center in enumerate(reg_space.cluster_center_indices_):\n",
    "    aligned_traj[center][0].save('musashi_rooh_h_reg_cluster%s_frame%s.pdb' % (i,center[0]))"
   ]
  },
  {
   "cell_type": "code",
   "execution_count": 92,
   "metadata": {},
   "outputs": [],
   "source": [
    "reg_list = reg_space.partial_predict(ligand_trajectory)"
   ]
  },
  {
   "cell_type": "code",
   "execution_count": 93,
   "metadata": {},
   "outputs": [
    {
     "data": {
      "text/plain": [
       "Counter({0: 1502,\n",
       "         1: 37,\n",
       "         2: 228,\n",
       "         3: 1090,\n",
       "         4: 736,\n",
       "         5: 487,\n",
       "         6: 467,\n",
       "         7: 470,\n",
       "         8: 101,\n",
       "         9: 79,\n",
       "         10: 42,\n",
       "         11: 93,\n",
       "         13: 95,\n",
       "         14: 853,\n",
       "         15: 23,\n",
       "         16: 389,\n",
       "         17: 235,\n",
       "         18: 349,\n",
       "         19: 315,\n",
       "         20: 214,\n",
       "         21: 1,\n",
       "         28: 46,\n",
       "         29: 104,\n",
       "         30: 1,\n",
       "         31: 59,\n",
       "         33: 1,\n",
       "         35: 10,\n",
       "         36: 31,\n",
       "         37: 13,\n",
       "         41: 219,\n",
       "         43: 53,\n",
       "         44: 158})"
      ]
     },
     "execution_count": 93,
     "metadata": {},
     "output_type": "execute_result"
    }
   ],
   "source": [
    "converted_labels = []\n",
    "for x in reg_list:\n",
    "    converted_labels.append(x)\n",
    "converted_labels[:10]\n",
    "Counter(converted_labels)"
   ]
  },
  {
   "cell_type": "code",
   "execution_count": 96,
   "metadata": {},
   "outputs": [
    {
     "data": {
      "text/plain": [
       "array([[   0,    0],\n",
       "       [   3,    0],\n",
       "       [   4,    0],\n",
       "       [   6,    0],\n",
       "       [   7,    0],\n",
       "       [  18,    0],\n",
       "       [  20,    0],\n",
       "       [  51,    0],\n",
       "       [  76,    0],\n",
       "       [  97,    0],\n",
       "       [ 109,    0],\n",
       "       [ 133,    0],\n",
       "       [ 188,    0],\n",
       "       [ 308,    0],\n",
       "       [ 414,    0],\n",
       "       [ 691,    0],\n",
       "       [ 752,    0],\n",
       "       [ 926,    0],\n",
       "       [1000,    0],\n",
       "       [1049,    0],\n",
       "       [1151,    0],\n",
       "       [1378,    0],\n",
       "       [1483,    0],\n",
       "       [1809,    0],\n",
       "       [2060,    0],\n",
       "       [2069,    0],\n",
       "       [2492,    0],\n",
       "       [2692,    0],\n",
       "       [2813,    0],\n",
       "       [3069,    0],\n",
       "       [3119,    0],\n",
       "       [3367,    0],\n",
       "       [3625,    0],\n",
       "       [3954,    0],\n",
       "       [4298,    0],\n",
       "       [4388,    0],\n",
       "       [4691,    0],\n",
       "       [5363,    0],\n",
       "       [5488,    0],\n",
       "       [5914,    0],\n",
       "       [6126,    0],\n",
       "       [6616,    0],\n",
       "       [6732,    0],\n",
       "       [6861,    0],\n",
       "       [7495,    0],\n",
       "       [7509,    0]])"
      ]
     },
     "execution_count": 96,
     "metadata": {},
     "output_type": "execute_result"
    }
   ],
   "source": [
    "reg_space.cluster_center_indices_"
   ]
  },
  {
   "cell_type": "code",
   "execution_count": 95,
   "metadata": {},
   "outputs": [],
   "source": [
    "nsamples = 10\n",
    "for x in [0, 3, 4, 14]:\n",
    "    indices_in_cluster = []\n",
    "    for i,y in enumerate(converted_labels):\n",
    "        if y == x: \n",
    "            indices_in_cluster.append(i)\n",
    "    samples = np.random.choice(indices_in_cluster, nsamples, replace=False)\n",
    "    for frame in samples:  \n",
    "        aligned_traj[frame].save('musashi_rooh_h_reg_cluster%s_frame%s.pdb' % (x,frame))"
   ]
  },
  {
   "cell_type": "code",
   "execution_count": null,
   "metadata": {},
   "outputs": [],
   "source": []
  }
 ],
 "metadata": {
  "kernelspec": {
   "display_name": "Python 3",
   "language": "python",
   "name": "python3"
  },
  "language_info": {
   "codemirror_mode": {
    "name": "ipython",
    "version": 3
   },
   "file_extension": ".py",
   "mimetype": "text/x-python",
   "name": "python",
   "nbconvert_exporter": "python",
   "pygments_lexer": "ipython3",
   "version": "3.6.3"
  }
 },
 "nbformat": 4,
 "nbformat_minor": 2
}
