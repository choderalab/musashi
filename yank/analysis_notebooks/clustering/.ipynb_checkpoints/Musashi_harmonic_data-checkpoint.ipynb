{
 "cells": [
  {
   "cell_type": "code",
   "execution_count": 79,
   "metadata": {},
   "outputs": [],
   "source": [
    "# general imports\n",
    "import mdtraj as md\n",
    "import msmbuilder\n",
    "import nglview as nv\n",
    "from msmbuilder.featurizer import LigandRMSDFeaturizer, RawPositionsFeaturizer\n",
    "from msmbuilder.cluster import KMeans, KMedoids, KCenters\n",
    "import numpy as np "
   ]
  },
  {
   "cell_type": "code",
   "execution_count": 80,
   "metadata": {},
   "outputs": [],
   "source": [
    "trajectory = md.load('/Users/albaness/github/musashi/yank/experiments/experiment-harmonic/Roeight/Roeight_h_state0.h5')"
   ]
  },
  {
   "cell_type": "code",
   "execution_count": null,
   "metadata": {},
   "outputs": [],
   "source": []
  },
  {
   "cell_type": "code",
   "execution_count": 81,
   "metadata": {},
   "outputs": [
    {
     "name": "stderr",
     "output_type": "stream",
     "text": [
      "/Users/albaness/miniconda3/lib/python3.6/site-packages/pandas/io/parsers.py:2218: FutureWarning: split() requires a non-empty pattern match.\n",
      "  yield pat.split(line.strip())\n",
      "/Users/albaness/miniconda3/lib/python3.6/site-packages/pandas/io/parsers.py:2220: FutureWarning: split() requires a non-empty pattern match.\n",
      "  yield pat.split(line.strip())\n"
     ]
    }
   ],
   "source": [
    "ref_protein = md.load('/Users/albaness/github/musashi/yank/experiments/input/Roeightreceptor_pdbfixer.pdb')\n",
    "ref_ligand = md.load('/Users/albaness/github/musashi/yank/experiments/input/Roeight.mol2')\n",
    "ref_trajectory = ref_protein.stack(ref_ligand)"
   ]
  },
  {
   "cell_type": "code",
   "execution_count": 82,
   "metadata": {},
   "outputs": [
    {
     "data": {
      "text/plain": [
       "<mdtraj.Trajectory with 8501 frames, 1373 atoms, 85 residues, and unitcells at 0x10d78ccf8>"
      ]
     },
     "execution_count": 82,
     "metadata": {},
     "output_type": "execute_result"
    }
   ],
   "source": [
    "trajectory"
   ]
  },
  {
   "cell_type": "code",
   "execution_count": 83,
   "metadata": {},
   "outputs": [
    {
     "data": {
      "text/plain": [
       "array([   0,    4,   17,   18,   19,   21,   39,   40,   41,   43,   56,\n",
       "         57,   58,   60,   76,   77,   78,   80,   95,   96,   97,   99,\n",
       "        102,  103,  104,  106,  109,  110,  111,  113,  128,  129,  130,\n",
       "        132,  139,  140,  141,  143,  163,  164,  165,  167,  180,  181,\n",
       "        182,  184,  194,  195,  196,  198,  205,  206,  207,  217,  219,\n",
       "        220,  221,  223,  231,  232,  233,  235,  242,  243,  244,  246,\n",
       "        261,  262,  263,  265,  285,  286,  287,  289,  297,  298,  299,\n",
       "        301,  318,  319,  320,  322,  338,  339,  340,  342,  349,  350,\n",
       "        351,  353,  371,  372,  373,  375,  391,  392,  393,  395,  398,\n",
       "        399,  400,  402,  413,  414,  415,  417,  432,  433,  434,  436,\n",
       "        456,  457,  458,  460,  471,  472,  473,  475,  482,  483,  484,\n",
       "        486,  499,  500,  501,  503,  515,  516,  517,  519,  532,  533,\n",
       "        534,  536,  556,  557,  558,  560,  568,  569,  570,  580,  582,\n",
       "        583,  584,  586,  596,  597,  598,  600,  610,  611,  612,  614,\n",
       "        632,  633,  634,  636,  656,  657,  658,  660,  667,  668,  669,\n",
       "        671,  691,  692,  693,  695,  698,  699,  700,  702,  718,  719,\n",
       "        720,  722,  725,  726,  727,  729,  745,  746,  747,  749,  761,\n",
       "        762,  763,  765,  775,  776,  777,  779,  795,  796,  797,  799,\n",
       "        805,  806,  807,  809,  817,  818,  819,  829,  831,  832,  833,\n",
       "        835,  841,  842,  843,  845,  852,  853,  854,  856,  868,  869,\n",
       "        870,  872,  880,  881,  882,  884,  902,  903,  904,  906,  918,\n",
       "        919,  920,  922,  937,  938,  939,  941,  944,  945,  946,  948,\n",
       "        961,  962,  963,  973,  975,  976,  977,  979,  992,  993,  994,\n",
       "        996, 1009, 1010, 1011, 1013, 1024, 1025, 1026, 1028, 1043, 1044,\n",
       "       1045, 1047, 1055, 1056, 1057, 1059, 1066, 1067, 1068, 1070, 1088,\n",
       "       1089, 1090, 1092, 1102, 1103, 1104, 1106, 1121, 1122, 1123, 1125,\n",
       "       1133, 1134, 1135, 1145, 1147, 1148, 1149, 1151, 1169, 1170, 1171,\n",
       "       1173, 1185, 1186, 1187, 1189, 1195, 1196, 1197, 1199, 1215, 1216,\n",
       "       1217, 1227, 1229, 1230, 1231, 1233, 1253, 1254, 1255, 1257, 1277,\n",
       "       1278, 1279, 1281, 1287, 1288, 1289, 1291, 1304, 1305, 1306, 1316,\n",
       "       1318, 1319, 1320, 1322, 1340, 1341])"
      ]
     },
     "execution_count": 83,
     "metadata": {},
     "output_type": "execute_result"
    }
   ],
   "source": [
    "atoms_to_align = trajectory.top.select('backbone and resn !=UNK')\n",
    "atoms_to_align"
   ]
  },
  {
   "cell_type": "code",
   "execution_count": 84,
   "metadata": {},
   "outputs": [],
   "source": [
    "aligned_traj = trajectory.superpose(ref_trajectory, frame=0, atom_indices=atoms_to_align)"
   ]
  },
  {
   "cell_type": "code",
   "execution_count": 85,
   "metadata": {
    "scrolled": false
   },
   "outputs": [
    {
     "data": {
      "application/vnd.jupyter.widget-view+json": {
       "model_id": "b536962baa7d4434a8f042c611edab06",
       "version_major": 2,
       "version_minor": 0
      },
      "text/html": [
       "<p>Failed to display Jupyter Widget of type <code>NGLWidget</code>.</p>\n",
       "<p>\n",
       "  If you're reading this message in the Jupyter Notebook or JupyterLab Notebook, it may mean\n",
       "  that the widgets JavaScript is still loading. If this message persists, it\n",
       "  likely means that the widgets JavaScript library is either not installed or\n",
       "  not enabled. See the <a href=\"https://ipywidgets.readthedocs.io/en/stable/user_install.html\">Jupyter\n",
       "  Widgets Documentation</a> for setup instructions.\n",
       "</p>\n",
       "<p>\n",
       "  If you're reading this message in another frontend (for example, a static\n",
       "  rendering on GitHub or <a href=\"https://nbviewer.jupyter.org/\">NBViewer</a>),\n",
       "  it may mean that your frontend doesn't currently support widgets.\n",
       "</p>\n"
      ],
      "text/plain": [
       "NGLWidget(count=8501)"
      ]
     },
     "metadata": {},
     "output_type": "display_data"
    }
   ],
   "source": [
    "view = nv.show_mdtraj(aligned_traj)\n",
    "view.add_licorice('resn UNK')\n",
    "view"
   ]
  },
  {
   "cell_type": "code",
   "execution_count": 86,
   "metadata": {},
   "outputs": [
    {
     "data": {
      "text/plain": [
       "array([1343, 1344, 1345, 1346, 1347, 1348, 1349, 1350, 1351, 1352, 1353,\n",
       "       1354, 1355, 1356, 1357, 1358, 1359, 1360, 1361, 1362, 1363, 1364,\n",
       "       1365, 1366, 1367, 1368, 1369, 1370, 1371, 1372])"
      ]
     },
     "execution_count": 86,
     "metadata": {},
     "output_type": "execute_result"
    }
   ],
   "source": [
    "ligand = aligned_traj.topology.select('resn UNK')\n",
    "ligand"
   ]
  },
  {
   "cell_type": "code",
   "execution_count": 9,
   "metadata": {},
   "outputs": [],
   "source": [
    "feat = RawPositionsFeaturizer(atom_indices=ligand)"
   ]
  },
  {
   "cell_type": "code",
   "execution_count": 10,
   "metadata": {},
   "outputs": [],
   "source": [
    "lig_xyz = feat.fit_transform(aligned_traj)"
   ]
  },
  {
   "cell_type": "code",
   "execution_count": 11,
   "metadata": {},
   "outputs": [],
   "source": [
    "kmeans = KMeans(n_jobs=-1, n_clusters=20).fit(lig_xyz)"
   ]
  },
  {
   "cell_type": "code",
   "execution_count": 12,
   "metadata": {
    "scrolled": true
   },
   "outputs": [
    {
     "data": {
      "text/plain": [
       "[7, 7, 11, 11, 4, 1, 11, 6, 0, 0]"
      ]
     },
     "execution_count": 12,
     "metadata": {},
     "output_type": "execute_result"
    }
   ],
   "source": [
    "converted_labels = []\n",
    "for x in kmeans.labels_:\n",
    "    converted_labels.append(x[0])\n",
    "converted_labels[:10]"
   ]
  },
  {
   "cell_type": "code",
   "execution_count": 28,
   "metadata": {},
   "outputs": [],
   "source": [
    "nsamples = 5\n",
    "for x in range(len(kmeans.cluster_centers_)):\n",
    "    indices_in_cluster = []\n",
    "    for i,y in enumerate(converted_labels):\n",
    "        if y == x: \n",
    "            indices_in_cluster.append(i)\n",
    "    samples = np.random.choice(indices_in_cluster, nsamples, replace=False)\n",
    "    for frame in samples:  \n",
    "        aligned_traj[frame].save('musashi_ro8_h_cluster%s_frame%s.pdb' % (x,frame))"
   ]
  },
  {
   "cell_type": "code",
   "execution_count": 55,
   "metadata": {},
   "outputs": [
    {
     "data": {
      "text/plain": [
       "Counter({0: 4242, 1: 1076, 2: 435, 3: 74, 4: 91, 5: 4, 6: 2375, 7: 71, 8: 133})"
      ]
     },
     "execution_count": 55,
     "metadata": {},
     "output_type": "execute_result"
    }
   ],
   "source": [
    "from collections import Counter\n",
    "Counter(converted_labels)"
   ]
  },
  {
   "cell_type": "code",
   "execution_count": 34,
   "metadata": {},
   "outputs": [],
   "source": [
    "kmeds = KMedoids(n_clusters=5).fit(lig_xyz)"
   ]
  },
  {
   "cell_type": "code",
   "execution_count": 35,
   "metadata": {},
   "outputs": [],
   "source": [
    "cluster_id = kmeds.cluster_ids_"
   ]
  },
  {
   "cell_type": "code",
   "execution_count": 36,
   "metadata": {},
   "outputs": [],
   "source": [
    "for i,cluster_center in enumerate(cluster_id):  \n",
    "   trajectory[cluster_center[0]].save('musashi_ro8_h_medoids_cluster%s_frame%s.pdb' % (i,cluster_center[0]))"
   ]
  },
  {
   "cell_type": "code",
   "execution_count": 44,
   "metadata": {},
   "outputs": [
    {
     "data": {
      "text/plain": [
       "Counter({0: 912,\n",
       "         1: 1013,\n",
       "         2: 1453,\n",
       "         3: 843,\n",
       "         4: 668,\n",
       "         5: 1128,\n",
       "         6: 622,\n",
       "         7: 612,\n",
       "         8: 454,\n",
       "         9: 796})"
      ]
     },
     "execution_count": 44,
     "metadata": {},
     "output_type": "execute_result"
    }
   ],
   "source": [
    "converted_labels = []\n",
    "for x in kmeds.labels_:\n",
    "    converted_labels.append(x[0])\n",
    "converted_labels[:10]\n",
    "Counter(converted_labels)"
   ]
  },
  {
   "cell_type": "code",
   "execution_count": 51,
   "metadata": {},
   "outputs": [
    {
     "name": "stdout",
     "output_type": "stream",
     "text": [
      "912\n",
      "1013\n",
      "1453\n",
      "843\n",
      "668\n",
      "1128\n",
      "622\n",
      "612\n",
      "454\n",
      "796\n"
     ]
    }
   ],
   "source": [
    "for element in Counter(converted_labels):\n",
    "    print(Counter(converted_labels)[element])"
   ]
  },
  {
   "cell_type": "code",
   "execution_count": 24,
   "metadata": {},
   "outputs": [],
   "source": [
    "kcenters = KCenters(metric='rmsd').fit(aligned_traj)"
   ]
  },
  {
   "cell_type": "code",
   "execution_count": 29,
   "metadata": {
    "scrolled": true
   },
   "outputs": [],
   "source": [
    "cluster_id = kcenters.cluster_ids_"
   ]
  },
  {
   "cell_type": "code",
   "execution_count": 30,
   "metadata": {},
   "outputs": [],
   "source": [
    "for i,cluster_center in enumerate(cluster_id):  \n",
    "   trajectory[cluster_center].save('musashi_ro8_h_medoids_cluster%s_frame%s.pdb' % (i,cluster_center))"
   ]
  },
  {
   "cell_type": "code",
   "execution_count": 13,
   "metadata": {},
   "outputs": [
    {
     "data": {
      "text/plain": [
       "array([1343, 1344, 1345, 1346, 1347, 1348, 1349, 1350, 1351, 1352, 1353,\n",
       "       1354, 1355, 1356, 1357, 1358, 1359, 1360, 1361, 1362, 1363, 1364,\n",
       "       1365, 1366, 1367, 1368, 1369, 1370, 1371, 1372])"
      ]
     },
     "execution_count": 13,
     "metadata": {},
     "output_type": "execute_result"
    }
   ],
   "source": [
    "ligand"
   ]
  },
  {
   "cell_type": "code",
   "execution_count": 14,
   "metadata": {},
   "outputs": [],
   "source": [
    "ligand_trajectory = aligned_traj.atom_slice(ligand)"
   ]
  },
  {
   "cell_type": "code",
   "execution_count": 87,
   "metadata": {},
   "outputs": [],
   "source": [
    "from msmbuilder.cluster import RegularSpatial"
   ]
  },
  {
   "cell_type": "code",
   "execution_count": 90,
   "metadata": {},
   "outputs": [],
   "source": [
    "reg_space = RegularSpatial(d_min=0.10, metric='rmsd').fit(ligand_trajectory)"
   ]
  },
  {
   "cell_type": "code",
   "execution_count": 91,
   "metadata": {
    "scrolled": false
   },
   "outputs": [],
   "source": [
    "for i,center in enumerate(reg_space.cluster_center_indices_):\n",
    "    aligned_traj[center][0].save('musashi_ro8_h_reg_cluster%s_frame%s.pdb' % (i,center[0]))"
   ]
  },
  {
   "cell_type": "code",
   "execution_count": 92,
   "metadata": {},
   "outputs": [],
   "source": [
    "reg_list = reg_space.partial_predict(ligand_trajectory)"
   ]
  },
  {
   "cell_type": "code",
   "execution_count": 93,
   "metadata": {},
   "outputs": [
    {
     "data": {
      "text/plain": [
       "Counter({0: 2189,\n",
       "         1: 2743,\n",
       "         2: 11,\n",
       "         3: 2,\n",
       "         6: 2958,\n",
       "         7: 219,\n",
       "         9: 42,\n",
       "         10: 28,\n",
       "         11: 273,\n",
       "         13: 1,\n",
       "         14: 21,\n",
       "         15: 6,\n",
       "         16: 8})"
      ]
     },
     "execution_count": 93,
     "metadata": {},
     "output_type": "execute_result"
    }
   ],
   "source": [
    "converted_labels = []\n",
    "for x in reg_list:\n",
    "    converted_labels.append(x)\n",
    "converted_labels[:10]\n",
    "Counter(converted_labels)"
   ]
  },
  {
   "cell_type": "markdown",
   "metadata": {},
   "source": [
    "# RoOH analysis"
   ]
  },
  {
   "cell_type": "code",
   "execution_count": 96,
   "metadata": {},
   "outputs": [],
   "source": [
    "trajectory = md.load('/Users/albaness/github/musashi/yank/experiments/experiment-harmonic/RoOH/Rooh_h_state0.h5')"
   ]
  },
  {
   "cell_type": "code",
   "execution_count": 97,
   "metadata": {},
   "outputs": [
    {
     "data": {
      "text/plain": [
       "array([   0,    4,   17,   18,   19,   21,   39,   40,   41,   43,   56,\n",
       "         57,   58,   60,   76,   77,   78,   80,   95,   96,   97,   99,\n",
       "        102,  103,  104,  106,  109,  110,  111,  113,  128,  129,  130,\n",
       "        132,  139,  140,  141,  143,  163,  164,  165,  167,  180,  181,\n",
       "        182,  184,  194,  195,  196,  198,  205,  206,  207,  217,  219,\n",
       "        220,  221,  223,  231,  232,  233,  235,  242,  243,  244,  246,\n",
       "        261,  262,  263,  265,  285,  286,  287,  289,  297,  298,  299,\n",
       "        301,  318,  319,  320,  322,  338,  339,  340,  342,  349,  350,\n",
       "        351,  353,  371,  372,  373,  375,  391,  392,  393,  395,  398,\n",
       "        399,  400,  402,  413,  414,  415,  417,  432,  433,  434,  436,\n",
       "        456,  457,  458,  460,  471,  472,  473,  475,  482,  483,  484,\n",
       "        486,  499,  500,  501,  503,  515,  516,  517,  519,  532,  533,\n",
       "        534,  536,  556,  557,  558,  560,  568,  569,  570,  580,  582,\n",
       "        583,  584,  586,  596,  597,  598,  600,  610,  611,  612,  614,\n",
       "        632,  633,  634,  636,  656,  657,  658,  660,  667,  668,  669,\n",
       "        671,  691,  692,  693,  695,  698,  699,  700,  702,  718,  719,\n",
       "        720,  722,  725,  726,  727,  729,  745,  746,  747,  749,  761,\n",
       "        762,  763,  765,  775,  776,  777,  779,  795,  796,  797,  799,\n",
       "        805,  806,  807,  809,  817,  818,  819,  829,  831,  832,  833,\n",
       "        835,  841,  842,  843,  845,  852,  853,  854,  856,  868,  869,\n",
       "        870,  872,  880,  881,  882,  884,  902,  903,  904,  906,  918,\n",
       "        919,  920,  922,  937,  938,  939,  941,  944,  945,  946,  948,\n",
       "        961,  962,  963,  973,  975,  976,  977,  979,  992,  993,  994,\n",
       "        996, 1009, 1010, 1011, 1013, 1024, 1025, 1026, 1028, 1043, 1044,\n",
       "       1045, 1047, 1055, 1056, 1057, 1059, 1066, 1067, 1068, 1070, 1088,\n",
       "       1089, 1090, 1092, 1102, 1103, 1104, 1106, 1121, 1122, 1123, 1125,\n",
       "       1133, 1134, 1135, 1145, 1147, 1148, 1149, 1151, 1169, 1170, 1171,\n",
       "       1173, 1185, 1186, 1187, 1189, 1195, 1196, 1197, 1199, 1215, 1216,\n",
       "       1217, 1227, 1229, 1230, 1231, 1233, 1253, 1254, 1255, 1257, 1277,\n",
       "       1278, 1279, 1281, 1287, 1288, 1289, 1291, 1304, 1305, 1306, 1316,\n",
       "       1318, 1319, 1320, 1322, 1340, 1341])"
      ]
     },
     "execution_count": 97,
     "metadata": {},
     "output_type": "execute_result"
    }
   ],
   "source": [
    "atoms_to_align = trajectory.top.select('backbone and resn !=UNK')\n",
    "atoms_to_align"
   ]
  },
  {
   "cell_type": "code",
   "execution_count": 98,
   "metadata": {},
   "outputs": [],
   "source": [
    "aligned_traj = trajectory.superpose(ref_trajectory, frame=0, atom_indices=atoms_to_align)"
   ]
  },
  {
   "cell_type": "code",
   "execution_count": 99,
   "metadata": {},
   "outputs": [
    {
     "data": {
      "application/vnd.jupyter.widget-view+json": {
       "model_id": "8f4a7e1fde394157bad180b7f3f342ea",
       "version_major": 2,
       "version_minor": 0
      },
      "text/html": [
       "<p>Failed to display Jupyter Widget of type <code>NGLWidget</code>.</p>\n",
       "<p>\n",
       "  If you're reading this message in the Jupyter Notebook or JupyterLab Notebook, it may mean\n",
       "  that the widgets JavaScript is still loading. If this message persists, it\n",
       "  likely means that the widgets JavaScript library is either not installed or\n",
       "  not enabled. See the <a href=\"https://ipywidgets.readthedocs.io/en/stable/user_install.html\">Jupyter\n",
       "  Widgets Documentation</a> for setup instructions.\n",
       "</p>\n",
       "<p>\n",
       "  If you're reading this message in another frontend (for example, a static\n",
       "  rendering on GitHub or <a href=\"https://nbviewer.jupyter.org/\">NBViewer</a>),\n",
       "  it may mean that your frontend doesn't currently support widgets.\n",
       "</p>\n"
      ],
      "text/plain": [
       "NGLWidget(count=8501)"
      ]
     },
     "metadata": {},
     "output_type": "display_data"
    }
   ],
   "source": [
    "view = nv.show_mdtraj(aligned_traj)\n",
    "view.add_licorice('resn UNK')\n",
    "view"
   ]
  },
  {
   "cell_type": "code",
   "execution_count": 100,
   "metadata": {},
   "outputs": [],
   "source": [
    "ligand\n",
    "ligand_trajectory = aligned_traj.atom_slice(ligand)"
   ]
  },
  {
   "cell_type": "code",
   "execution_count": 101,
   "metadata": {},
   "outputs": [],
   "source": [
    "reg_space = RegularSpatial(d_min=0.10, metric='rmsd').fit(ligand_trajectory)"
   ]
  },
  {
   "cell_type": "code",
   "execution_count": 102,
   "metadata": {},
   "outputs": [],
   "source": [
    "for i,center in enumerate(reg_space.cluster_center_indices_):\n",
    "    aligned_traj[center][0].save('musashi_rooh_h_reg_cluster%s_frame%s.pdb' % (i,center[0]))"
   ]
  },
  {
   "cell_type": "code",
   "execution_count": 103,
   "metadata": {},
   "outputs": [],
   "source": [
    "reg_list = reg_space.partial_predict(ligand_trajectory)"
   ]
  },
  {
   "cell_type": "code",
   "execution_count": 104,
   "metadata": {},
   "outputs": [
    {
     "data": {
      "text/plain": [
       "Counter({0: 3449,\n",
       "         1: 1812,\n",
       "         2: 141,\n",
       "         3: 1390,\n",
       "         4: 825,\n",
       "         5: 596,\n",
       "         6: 14,\n",
       "         7: 69,\n",
       "         8: 205})"
      ]
     },
     "execution_count": 104,
     "metadata": {},
     "output_type": "execute_result"
    }
   ],
   "source": [
    "converted_labels = []\n",
    "for x in reg_list:\n",
    "    converted_labels.append(x)\n",
    "converted_labels[:10]\n",
    "Counter(converted_labels)"
   ]
  },
  {
   "cell_type": "code",
   "execution_count": null,
   "metadata": {},
   "outputs": [],
   "source": []
  }
 ],
 "metadata": {
  "kernelspec": {
   "display_name": "Python 3",
   "language": "python",
   "name": "python3"
  },
  "language_info": {
   "codemirror_mode": {
    "name": "ipython",
    "version": 3
   },
   "file_extension": ".py",
   "mimetype": "text/x-python",
   "name": "python",
   "nbconvert_exporter": "python",
   "pygments_lexer": "ipython3",
   "version": "3.6.3"
  }
 },
 "nbformat": 4,
 "nbformat_minor": 2
}
